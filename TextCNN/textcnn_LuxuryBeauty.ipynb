{
 "cells": [
  {
   "cell_type": "markdown",
   "id": "70c8441b",
   "metadata": {},
   "source": [
    "# Sentiment Analysis\n",
    "## TextCNN Model on Appliances dataset"
   ]
  },
  {
   "cell_type": "markdown",
   "id": "151f661d",
   "metadata": {},
   "source": [
    "## Importing Libraries"
   ]
  },
  {
   "cell_type": "code",
   "execution_count": 88,
   "id": "e18db7c6",
   "metadata": {},
   "outputs": [],
   "source": [
    "import pandas as pd\n",
    "from pathlib import Path\n",
    "import json\n",
    "import csv"
   ]
  },
  {
   "cell_type": "code",
   "execution_count": 89,
   "id": "0ad0a3a3",
   "metadata": {},
   "outputs": [],
   "source": [
    "%matplotlib inline\n",
    "import re\n",
    "import seaborn as sbn\n",
    "import nltk\n",
    "import tqdm as tqdm\n",
    "import sqlite3\n",
    "import pandas as pd\n",
    "import numpy as np\n",
    "\n",
    "import string\n",
    "from nltk.corpus import stopwords\n",
    "stop = stopwords.words(\"english\")\n",
    "import matplotlib.pyplot as plt\n",
    "\n",
    "from sklearn.metrics import accuracy_score\n",
    "from sklearn.metrics import confusion_matrix\n",
    "from math import floor,ceil\n",
    "from nltk.stem.porter import PorterStemmer\n",
    "english_stemmer=nltk.stem.SnowballStemmer('english')\n",
    "\n",
    "from sklearn.feature_extraction.text import TfidfTransformer\n",
    "from sklearn.feature_extraction.text import CountVectorizer\n",
    "from sklearn.model_selection import train_test_split\n",
    "from sklearn.metrics import confusion_matrix\n",
    "from sklearn import metrics\n",
    "from sklearn.metrics import roc_curve, auc\n",
    "\n",
    "from sklearn.svm import LinearSVC\n",
    "\n",
    "from keras.models import Sequential\n",
    "from keras.layers import LSTM, Dense, Embedding\n",
    "\n",
    "\n",
    "#from gensim import summarization\n",
    "from nltk.tokenize import word_tokenize\n",
    "from sklearn.feature_extraction.text import TfidfVectorizer\n",
    "from sklearn.model_selection import train_test_split\n",
    "\n",
    "from imblearn.over_sampling import SMOTE"
   ]
  },
  {
   "cell_type": "markdown",
   "id": "fdee7b9d",
   "metadata": {},
   "source": [
    "## Fetching the dataset (Luxury Beauty)"
   ]
  },
  {
   "cell_type": "code",
   "execution_count": 90,
   "id": "9b872e98",
   "metadata": {},
   "outputs": [],
   "source": [
    "df = pd.read_json (r'C:\\Users\\Neha Sharma\\Desktop\\Data Mining_project\\Luxury_Beauty.json', lines=True)\n",
    "df.to_csv (r'C:\\Users\\Neha Sharma\\Desktop\\Data Mining_project\\Luxury_Beauty.csv', index = None)"
   ]
  },
  {
   "cell_type": "code",
   "execution_count": 91,
   "id": "1f28d692",
   "metadata": {},
   "outputs": [
    {
     "name": "stderr",
     "output_type": "stream",
     "text": [
      "C:\\Users\\Neha Sharma\\AppData\\Local\\Temp\\ipykernel_8644\\953967520.py:2: DtypeWarning: Columns (1) have mixed types. Specify dtype option on import or set low_memory=False.\n",
      "  review_df = pd.read_csv(r'C:\\Users\\Neha Sharma\\Desktop\\Data Mining_project\\Luxury_Beauty.csv')\n"
     ]
    },
    {
     "data": {
      "text/html": [
       "<div>\n",
       "<style scoped>\n",
       "    .dataframe tbody tr th:only-of-type {\n",
       "        vertical-align: middle;\n",
       "    }\n",
       "\n",
       "    .dataframe tbody tr th {\n",
       "        vertical-align: top;\n",
       "    }\n",
       "\n",
       "    .dataframe thead th {\n",
       "        text-align: right;\n",
       "    }\n",
       "</style>\n",
       "<table border=\"1\" class=\"dataframe\">\n",
       "  <thead>\n",
       "    <tr style=\"text-align: right;\">\n",
       "      <th></th>\n",
       "      <th>overall</th>\n",
       "      <th>vote</th>\n",
       "      <th>verified</th>\n",
       "      <th>reviewTime</th>\n",
       "      <th>reviewerID</th>\n",
       "      <th>asin</th>\n",
       "      <th>reviewerName</th>\n",
       "      <th>reviewText</th>\n",
       "      <th>summary</th>\n",
       "      <th>unixReviewTime</th>\n",
       "      <th>style</th>\n",
       "      <th>image</th>\n",
       "    </tr>\n",
       "  </thead>\n",
       "  <tbody>\n",
       "    <tr>\n",
       "      <th>0</th>\n",
       "      <td>2</td>\n",
       "      <td>3</td>\n",
       "      <td>True</td>\n",
       "      <td>06 15, 2010</td>\n",
       "      <td>A1Q6MUU0B2ZDQG</td>\n",
       "      <td>B00004U9V2</td>\n",
       "      <td>D. Poston</td>\n",
       "      <td>I bought two of these 8.5 fl oz hand cream, an...</td>\n",
       "      <td>dispensers don't work</td>\n",
       "      <td>1276560000</td>\n",
       "      <td>NaN</td>\n",
       "      <td>NaN</td>\n",
       "    </tr>\n",
       "    <tr>\n",
       "      <th>1</th>\n",
       "      <td>5</td>\n",
       "      <td>14</td>\n",
       "      <td>True</td>\n",
       "      <td>01 7, 2010</td>\n",
       "      <td>A3HO2SQDCZIE9S</td>\n",
       "      <td>B00004U9V2</td>\n",
       "      <td>chandra</td>\n",
       "      <td>Believe me, over the years I have tried many, ...</td>\n",
       "      <td>Best hand cream ever.</td>\n",
       "      <td>1262822400</td>\n",
       "      <td>NaN</td>\n",
       "      <td>NaN</td>\n",
       "    </tr>\n",
       "    <tr>\n",
       "      <th>2</th>\n",
       "      <td>5</td>\n",
       "      <td>NaN</td>\n",
       "      <td>True</td>\n",
       "      <td>04 18, 2018</td>\n",
       "      <td>A2EM03F99X3RJZ</td>\n",
       "      <td>B00004U9V2</td>\n",
       "      <td>Maureen G</td>\n",
       "      <td>Great hand lotion</td>\n",
       "      <td>Five Stars</td>\n",
       "      <td>1524009600</td>\n",
       "      <td>{'Size:': ' 3.5 oz.'}</td>\n",
       "      <td>NaN</td>\n",
       "    </tr>\n",
       "    <tr>\n",
       "      <th>3</th>\n",
       "      <td>5</td>\n",
       "      <td>NaN</td>\n",
       "      <td>True</td>\n",
       "      <td>04 18, 2018</td>\n",
       "      <td>A3Z74TDRGD0HU</td>\n",
       "      <td>B00004U9V2</td>\n",
       "      <td>Terry K</td>\n",
       "      <td>This is the best for the severely dry skin on ...</td>\n",
       "      <td>Five Stars</td>\n",
       "      <td>1524009600</td>\n",
       "      <td>{'Size:': ' 3.5 oz.'}</td>\n",
       "      <td>NaN</td>\n",
       "    </tr>\n",
       "    <tr>\n",
       "      <th>4</th>\n",
       "      <td>5</td>\n",
       "      <td>NaN</td>\n",
       "      <td>True</td>\n",
       "      <td>04 17, 2018</td>\n",
       "      <td>A2UXFNW9RTL4VM</td>\n",
       "      <td>B00004U9V2</td>\n",
       "      <td>Patricia Wood</td>\n",
       "      <td>The best non- oily hand cream ever. It heals o...</td>\n",
       "      <td>I always have a backup ready.</td>\n",
       "      <td>1523923200</td>\n",
       "      <td>{'Size:': ' 3.5 oz.'}</td>\n",
       "      <td>NaN</td>\n",
       "    </tr>\n",
       "    <tr>\n",
       "      <th>...</th>\n",
       "      <td>...</td>\n",
       "      <td>...</td>\n",
       "      <td>...</td>\n",
       "      <td>...</td>\n",
       "      <td>...</td>\n",
       "      <td>...</td>\n",
       "      <td>...</td>\n",
       "      <td>...</td>\n",
       "      <td>...</td>\n",
       "      <td>...</td>\n",
       "      <td>...</td>\n",
       "      <td>...</td>\n",
       "    </tr>\n",
       "    <tr>\n",
       "      <th>574623</th>\n",
       "      <td>5</td>\n",
       "      <td>NaN</td>\n",
       "      <td>True</td>\n",
       "      <td>03 20, 2017</td>\n",
       "      <td>AHYJ78MVF4UQO</td>\n",
       "      <td>B01HIQEOLO</td>\n",
       "      <td>Lori Fox</td>\n",
       "      <td>Great color and I prefer shellac over gel</td>\n",
       "      <td>Five Stars</td>\n",
       "      <td>1489968000</td>\n",
       "      <td>NaN</td>\n",
       "      <td>NaN</td>\n",
       "    </tr>\n",
       "    <tr>\n",
       "      <th>574624</th>\n",
       "      <td>5</td>\n",
       "      <td>NaN</td>\n",
       "      <td>True</td>\n",
       "      <td>10 26, 2016</td>\n",
       "      <td>A1L2RT7KBNK02K</td>\n",
       "      <td>B01HIQEOLO</td>\n",
       "      <td>Elena</td>\n",
       "      <td>Best shellac I have ever used.  It doesn't tak...</td>\n",
       "      <td>Best shellac I have ever used</td>\n",
       "      <td>1477440000</td>\n",
       "      <td>NaN</td>\n",
       "      <td>NaN</td>\n",
       "    </tr>\n",
       "    <tr>\n",
       "      <th>574625</th>\n",
       "      <td>5</td>\n",
       "      <td>NaN</td>\n",
       "      <td>True</td>\n",
       "      <td>09 30, 2016</td>\n",
       "      <td>A36MLXQX9WPPW9</td>\n",
       "      <td>B01HIQEOLO</td>\n",
       "      <td>Donna D. Harris</td>\n",
       "      <td>Great polish and beautiful color!!</td>\n",
       "      <td>Great polish!</td>\n",
       "      <td>1475193600</td>\n",
       "      <td>NaN</td>\n",
       "      <td>NaN</td>\n",
       "    </tr>\n",
       "    <tr>\n",
       "      <th>574626</th>\n",
       "      <td>1</td>\n",
       "      <td>2.0</td>\n",
       "      <td>True</td>\n",
       "      <td>12 5, 2016</td>\n",
       "      <td>A23DRCOMC2RIXF</td>\n",
       "      <td>B01HJ2UY0W</td>\n",
       "      <td>Y.Y. Chen</td>\n",
       "      <td>The perfume is good, but the spray head broke ...</td>\n",
       "      <td>Spray head broke off within a month</td>\n",
       "      <td>1480896000</td>\n",
       "      <td>{'Size:': ' 1.7 Fluid Ounce', 'Color:': ' Multi'}</td>\n",
       "      <td>NaN</td>\n",
       "    </tr>\n",
       "    <tr>\n",
       "      <th>574627</th>\n",
       "      <td>5</td>\n",
       "      <td>NaN</td>\n",
       "      <td>True</td>\n",
       "      <td>01 14, 2017</td>\n",
       "      <td>AJEDVHTLS9P3V</td>\n",
       "      <td>B01HJ2UY1G</td>\n",
       "      <td>ML Shelton</td>\n",
       "      <td>Great fragrance.</td>\n",
       "      <td>Five Stars</td>\n",
       "      <td>1484352000</td>\n",
       "      <td>{'Size:': ' 3.4 Fluid Ounce', 'Color:': ' Multi'}</td>\n",
       "      <td>NaN</td>\n",
       "    </tr>\n",
       "  </tbody>\n",
       "</table>\n",
       "<p>574628 rows × 12 columns</p>\n",
       "</div>"
      ],
      "text/plain": [
       "        overall vote  verified   reviewTime      reviewerID        asin  \\\n",
       "0             2    3      True  06 15, 2010  A1Q6MUU0B2ZDQG  B00004U9V2   \n",
       "1             5   14      True   01 7, 2010  A3HO2SQDCZIE9S  B00004U9V2   \n",
       "2             5  NaN      True  04 18, 2018  A2EM03F99X3RJZ  B00004U9V2   \n",
       "3             5  NaN      True  04 18, 2018   A3Z74TDRGD0HU  B00004U9V2   \n",
       "4             5  NaN      True  04 17, 2018  A2UXFNW9RTL4VM  B00004U9V2   \n",
       "...         ...  ...       ...          ...             ...         ...   \n",
       "574623        5  NaN      True  03 20, 2017   AHYJ78MVF4UQO  B01HIQEOLO   \n",
       "574624        5  NaN      True  10 26, 2016  A1L2RT7KBNK02K  B01HIQEOLO   \n",
       "574625        5  NaN      True  09 30, 2016  A36MLXQX9WPPW9  B01HIQEOLO   \n",
       "574626        1  2.0      True   12 5, 2016  A23DRCOMC2RIXF  B01HJ2UY0W   \n",
       "574627        5  NaN      True  01 14, 2017   AJEDVHTLS9P3V  B01HJ2UY1G   \n",
       "\n",
       "           reviewerName                                         reviewText  \\\n",
       "0             D. Poston  I bought two of these 8.5 fl oz hand cream, an...   \n",
       "1               chandra  Believe me, over the years I have tried many, ...   \n",
       "2             Maureen G                                  Great hand lotion   \n",
       "3               Terry K  This is the best for the severely dry skin on ...   \n",
       "4         Patricia Wood  The best non- oily hand cream ever. It heals o...   \n",
       "...                 ...                                                ...   \n",
       "574623         Lori Fox          Great color and I prefer shellac over gel   \n",
       "574624            Elena  Best shellac I have ever used.  It doesn't tak...   \n",
       "574625  Donna D. Harris                 Great polish and beautiful color!!   \n",
       "574626        Y.Y. Chen  The perfume is good, but the spray head broke ...   \n",
       "574627       ML Shelton                                   Great fragrance.   \n",
       "\n",
       "                                    summary  unixReviewTime  \\\n",
       "0                     dispensers don't work      1276560000   \n",
       "1                     Best hand cream ever.      1262822400   \n",
       "2                                Five Stars      1524009600   \n",
       "3                                Five Stars      1524009600   \n",
       "4             I always have a backup ready.      1523923200   \n",
       "...                                     ...             ...   \n",
       "574623                           Five Stars      1489968000   \n",
       "574624        Best shellac I have ever used      1477440000   \n",
       "574625                        Great polish!      1475193600   \n",
       "574626  Spray head broke off within a month      1480896000   \n",
       "574627                           Five Stars      1484352000   \n",
       "\n",
       "                                                    style image  \n",
       "0                                                     NaN   NaN  \n",
       "1                                                     NaN   NaN  \n",
       "2                                   {'Size:': ' 3.5 oz.'}   NaN  \n",
       "3                                   {'Size:': ' 3.5 oz.'}   NaN  \n",
       "4                                   {'Size:': ' 3.5 oz.'}   NaN  \n",
       "...                                                   ...   ...  \n",
       "574623                                                NaN   NaN  \n",
       "574624                                                NaN   NaN  \n",
       "574625                                                NaN   NaN  \n",
       "574626  {'Size:': ' 1.7 Fluid Ounce', 'Color:': ' Multi'}   NaN  \n",
       "574627  {'Size:': ' 3.4 Fluid Ounce', 'Color:': ' Multi'}   NaN  \n",
       "\n",
       "[574628 rows x 12 columns]"
      ]
     },
     "execution_count": 91,
     "metadata": {},
     "output_type": "execute_result"
    }
   ],
   "source": [
    "#Making Dataframe\n",
    "review_df = pd.read_csv(r'C:\\Users\\Neha Sharma\\Desktop\\Data Mining_project\\Luxury_Beauty.csv')\n",
    "review_df"
   ]
  },
  {
   "cell_type": "code",
   "execution_count": 95,
   "id": "8a2a675d",
   "metadata": {},
   "outputs": [
    {
     "data": {
      "text/plain": [
       "Index(['overall', 'vote', 'verified', 'reviewTime', 'reviewerID', 'asin',\n",
       "       'reviewerName', 'reviewText', 'summary', 'unixReviewTime', 'style',\n",
       "       'image'],\n",
       "      dtype='object')"
      ]
     },
     "execution_count": 95,
     "metadata": {},
     "output_type": "execute_result"
    }
   ],
   "source": [
    "#Coulmns in dataset\n",
    "review_df.columns"
   ]
  },
  {
   "cell_type": "markdown",
   "id": "2e933e2a",
   "metadata": {},
   "source": [
    "## Data Cleaning"
   ]
  },
  {
   "cell_type": "code",
   "execution_count": 96,
   "id": "5ac9434a",
   "metadata": {},
   "outputs": [],
   "source": [
    "#Dropping the columns not required\n",
    "review_df=review_df.drop(['vote','verified','reviewTime','style','reviewerName', 'unixReviewTime', 'image'],axis=1)"
   ]
  },
  {
   "cell_type": "code",
   "execution_count": 98,
   "id": "b4537ee5",
   "metadata": {},
   "outputs": [
    {
     "data": {
      "text/plain": [
       "str"
      ]
     },
     "execution_count": 98,
     "metadata": {},
     "output_type": "execute_result"
    }
   ],
   "source": [
    "type(review_df['reviewText'][0])"
   ]
  },
  {
   "cell_type": "code",
   "execution_count": 99,
   "id": "f59e0347",
   "metadata": {},
   "outputs": [
    {
     "data": {
      "text/plain": [
       "<AxesSubplot: xlabel='overall', ylabel='count'>"
      ]
     },
     "execution_count": 99,
     "metadata": {},
     "output_type": "execute_result"
    },
    {
     "data": {
      "image/png": "[encoded data removed]",
      "text/plain": [
       "<Figure size 640x480 with 1 Axes>"
      ]
     },
     "metadata": {},
     "output_type": "display_data"
    }
   ],
   "source": [
    "#Count of overall rating\n",
    "sbn.countplot(x=review_df['overall'])"
   ]
  },
  {
   "cell_type": "code",
   "execution_count": 100,
   "id": "748749e6",
   "metadata": {},
   "outputs": [],
   "source": [
    "#Removing Stopwords\n",
    "def data_clean( rev, remove_stopwords=True): \n",
    "    \n",
    "    new_text = re.sub(\"[^a-zA-Z]\",\" \", rev)\n",
    "   \n",
    "    words = new_text.lower().split()\n",
    "    \n",
    "    if remove_stopwords:\n",
    "        sts = set(stopwords.words(\"english\"))\n",
    "        words = [w for w in words if not w in sts]\n",
    "    ary=[]\n",
    "    eng_stemmer = english_stemmer \n",
    "    for word in words:\n",
    "        ary.append(eng_stemmer.stem(word))\n",
    "\n",
    "    \n",
    "    return(ary)"
   ]
  },
  {
   "cell_type": "code",
   "execution_count": 101,
   "id": "4ccbdf75",
   "metadata": {},
   "outputs": [],
   "source": [
    "cleaned_reviewData = []\n",
    "for rev in review_df['reviewText']:\n",
    "    #print(rev)\n",
    "    cleaned_reviewData.append(\" \".join(data_clean(str(rev))))\n",
    "    \n",
    "clean_summaryData = []\n",
    "for rev in review_df['summary']:\n",
    "    clean_summaryData.append(\" \".join(data_clean(str(rev))))"
   ]
  },
  {
   "cell_type": "code",
   "execution_count": 102,
   "id": "ff12d1a4",
   "metadata": {},
   "outputs": [
    {
     "name": "stdout",
     "output_type": "stream",
     "text": [
      "use        47680\n",
      "product    41811\n",
      "hair       34559\n",
      "love       26455\n",
      "great      23943\n",
      "like       21788\n",
      "skin       18259\n",
      "work       16983\n",
      "one        16013\n",
      "good       15273\n",
      "smell      15055\n",
      "color      14488\n",
      "get        14201\n",
      "shave      13964\n",
      "look       13329\n",
      "time       13112\n",
      "dri        11660\n",
      "year       11618\n",
      "realli     11595\n",
      "tri        11064\n",
      "dtype: int64\n"
     ]
    }
   ],
   "source": [
    "#Fetching most frequent words from Review Text\n",
    "Most_used_Words_Review =pd.Series(' '.join(cleaned_reviewData).lower().split()).value_counts()[:20]\n",
    "print (Most_used_Words_Review)"
   ]
  },
  {
   "cell_type": "code",
   "execution_count": 103,
   "id": "ad44675f",
   "metadata": {},
   "outputs": [
    {
     "name": "stdout",
     "output_type": "stream",
     "text": [
      "star       27498\n",
      "five       21110\n",
      "great      11448\n",
      "product     8148\n",
      "love        7990\n",
      "good        4994\n",
      "best        4408\n",
      "hair        3699\n",
      "work        3408\n",
      "use         3037\n",
      "four        2728\n",
      "color       2697\n",
      "like        2669\n",
      "smell       2495\n",
      "one         2490\n",
      "shave       2028\n",
      "nice        1876\n",
      "skin        1821\n",
      "stuff       1558\n",
      "ever        1557\n",
      "dtype: int64\n"
     ]
    }
   ],
   "source": [
    "#Fetching most frequent words from Review Summary\n",
    "Most_used_Words_Summary = pd.Series(' '.join(clean_summaryData).lower().split()).value_counts()[:20]\n",
    "print (Most_used_Words_Summary)"
   ]
  },
  {
   "cell_type": "markdown",
   "id": "26be1554",
   "metadata": {},
   "source": [
    "## Data Classification and Clustering"
   ]
  },
  {
   "cell_type": "code",
   "execution_count": 104,
   "id": "6b15fba9",
   "metadata": {},
   "outputs": [],
   "source": [
    "#preparing matrix of TF-IDF features\n",
    "from sklearn.feature_extraction.text import TfidfVectorizer\n",
    "text_vectorizer = TfidfVectorizer(min_df=4, max_features = 1000)\n",
    "test_vector = text_vectorizer.fit_transform(cleaned_reviewData)\n",
    "tfidf_vector = dict(zip(text_vectorizer.get_feature_names_out(), text_vectorizer.idf_))"
   ]
  },
  {
   "cell_type": "code",
   "execution_count": 105,
   "id": "a14a03d7",
   "metadata": {},
   "outputs": [
    {
     "name": "stderr",
     "output_type": "stream",
     "text": [
      "[nltk_data] Downloading package vader_lexicon to C:\\Users\\Neha\n",
      "[nltk_data]     Sharma\\AppData\\Roaming\\nltk_data...\n",
      "[nltk_data]   Package vader_lexicon is already up-to-date!\n"
     ]
    },
    {
     "data": {
      "text/plain": [
       "True"
      ]
     },
     "execution_count": 105,
     "metadata": {},
     "output_type": "execute_result"
    }
   ],
   "source": [
    "import nltk\n",
    "nltk.downloader.download('vader_lexicon')"
   ]
  },
  {
   "cell_type": "code",
   "execution_count": 106,
   "id": "24372280",
   "metadata": {},
   "outputs": [
    {
     "name": "stdout",
     "output_type": "stream",
     "text": [
      "compound: 0.5423, \n",
      "neg: 0.045, \n",
      "neu: 0.811, \n",
      "pos: 0.144, \n",
      "I bought two of these 8.5 fl oz hand cream, and neither of the dispensers work.  The hand cream is wonderful, but very thick, so I don't see I can get much out by shaking it out, since the dispensers seem to be non-operable.\n",
      "compound: 0.9451, \n",
      "neg: 0.026, \n",
      "neu: 0.779, \n",
      "pos: 0.195, \n",
      "Believe me, over the years I have tried many, many different hand creams. I am one of those people whose hands get so dry they have little cracks all over them.\n",
      "\n",
      "Of all the hand creams, this is the best. It really moisturizes but doesn't leave your hands feeling greasy. And it lasts. I think a lot of lotions just have too much water in them. It has a very nice, subtle scent. I have to avoid a lot of lotions just because the scent is too strong!\n",
      "\n",
      "I am overall very \"frugal\" but I think this cream is worth the money.\n",
      "compound: 0.8074, \n",
      "neg: 0.0, \n",
      "neu: 0.12, \n",
      "pos: 0.88, \n",
      "Great hand lotion\n",
      "compound: 0.296, \n",
      "neg: 0.174, \n",
      "neu: 0.581, \n",
      "pos: 0.244, \n",
      "This is the best for the severely dry skin on my hands\n",
      "compound: 0.8126, \n",
      "neg: 0.0, \n",
      "neu: 0.519, \n",
      "pos: 0.481, \n",
      "The best non- oily hand cream ever. It heals overnight.\n",
      "compound: 0.3182, \n",
      "neg: 0.0, \n",
      "neu: 0.892, \n",
      "pos: 0.108, \n",
      "Ive used this lotion for many years. I try others occasionally and always come back to Gardners. Please don't change a thing.\n",
      "compound: 0.6249, \n",
      "neg: 0.0, \n",
      "neu: 0.494, \n",
      "pos: 0.506, \n",
      "Works great for dry hands.\n",
      "compound: 0.8126, \n",
      "neg: 0.0, \n",
      "neu: 0.288, \n",
      "pos: 0.712, \n",
      "The best hand cream ever.\n",
      "compound: 0.8039, \n",
      "neg: 0.0, \n",
      "neu: 0.624, \n",
      "pos: 0.376, \n",
      "LOVE THIS SCENT!!  But Crabtree and Evelyn make so many.  Washes off easily too!!\n",
      "compound: 0.6249, \n",
      "neg: 0.0, \n",
      "neu: 0.549, \n",
      "pos: 0.451, \n",
      "Its a great moisturizer especially for gardners\n"
     ]
    }
   ],
   "source": [
    "# Sentiment Analyzer\n",
    "from nltk.sentiment.vader import SentimentIntensityAnalyzer\n",
    "analyser = SentimentIntensityAnalyzer()\n",
    "sample_review = review_df.reviewText[:10]\n",
    "for test in sample_review:\n",
    "    test\n",
    "    ss = analyser.polarity_scores(test)\n",
    "    for k in sorted(ss):\n",
    "        print('{0}: {1}, '.format(k, ss[k]))\n",
    "    print(test)"
   ]
  },
  {
   "cell_type": "code",
   "execution_count": 107,
   "id": "42cbdb2a",
   "metadata": {},
   "outputs": [
    {
     "name": "stdout",
     "output_type": "stream",
     "text": [
      "Cluster 0:\n",
      " iron\n",
      " curl\n",
      " hair\n",
      " flat\n",
      " heat\n",
      "\n",
      "Cluster 1:\n",
      " good\n",
      " product\n",
      " price\n",
      " smell\n",
      " qualiti\n",
      "\n",
      "Cluster 2:\n",
      " favorit\n",
      " last\n",
      " long\n",
      " time\n",
      " one\n",
      "\n",
      "Cluster 3:\n",
      " polish\n",
      " nail\n",
      " color\n",
      " opi\n",
      " love\n",
      "\n",
      "Cluster 4:\n",
      " stuff\n",
      " love\n",
      " great\n",
      " good\n",
      " use\n",
      "\n",
      "Cluster 5:\n",
      " skin\n",
      " use\n",
      " nice\n",
      " product\n",
      " face\n",
      "\n",
      "Cluster 6:\n",
      " razor\n",
      " blade\n",
      " shave\n",
      " safeti\n",
      " use\n",
      "\n",
      "Cluster 7:\n",
      " best\n",
      " ever\n",
      " use\n",
      " product\n",
      " hair\n",
      "\n",
      "Cluster 8:\n",
      " like\n",
      " realli\n",
      " product\n",
      " use\n",
      " feel\n",
      "\n",
      "Cluster 9:\n",
      " shave\n",
      " cream\n",
      " use\n",
      " lather\n",
      " product\n",
      "\n",
      "Cluster 10:\n",
      " perfect\n",
      " color\n",
      " expect\n",
      " love\n",
      " product\n",
      "\n",
      "Cluster 11:\n",
      " hair\n",
      " product\n",
      " use\n",
      " make\n",
      " dri\n",
      "\n",
      "Cluster 12:\n",
      " smell\n",
      " love\n",
      " great\n",
      " like\n",
      " good\n",
      "\n",
      "Cluster 13:\n",
      " dryer\n",
      " hair\n",
      " blow\n",
      " dri\n",
      " one\n",
      "\n",
      "Cluster 14:\n",
      " love\n",
      " product\n",
      " wife\n",
      " use\n",
      " husband\n",
      "\n",
      "Cluster 15:\n",
      " work\n",
      " well\n",
      " use\n",
      " hair\n",
      " product\n",
      "\n",
      "Cluster 16:\n",
      " product\n",
      " use\n",
      " excel\n",
      " love\n",
      " year\n",
      "\n",
      "Cluster 17:\n",
      " color\n",
      " love\n",
      " great\n",
      " beauti\n",
      " opi\n",
      "\n",
      "Cluster 18:\n",
      " great\n",
      " product\n",
      " work\n",
      " price\n",
      " fast\n",
      "\n",
      "Cluster 19:\n",
      " coat\n",
      " top\n",
      " polish\n",
      " nail\n",
      " color\n",
      "\n"
     ]
    }
   ],
   "source": [
    "#Kmeans clusters\n",
    "from sklearn.cluster import MiniBatchKMeans\n",
    "\n",
    "clusters = 20\n",
    "kmeans_model = MiniBatchKMeans(n_clusters=clusters, init='k-means++', n_init=1, \n",
    "                         init_size=1000, batch_size=1000, verbose=False, max_iter=1000)\n",
    "kmodel = kmeans_model.fit(test_vecor)\n",
    "kmodel_clusters = kmodel.predict(test_vecor)\n",
    "kmodel_distances = kmodel.transform(test_vecor)\n",
    "centroids = kmodel.cluster_centers_.argsort()[:, ::-1]\n",
    "values = text_vectorizer.get_feature_names_out()\n",
    "for i in range(clusters):\n",
    "    print(\"Cluster %d:\" % i)\n",
    "    for j in centroids[i, :5]:\n",
    "        print(' %s' % values[j])\n",
    "    print()"
   ]
  },
  {
   "cell_type": "code",
   "execution_count": 108,
   "id": "18ca9766",
   "metadata": {},
   "outputs": [],
   "source": [
    "test_reviewText = review_df.reviewText\n",
    "test_Ratings = review_df.overall\n",
    "text_vectorizer = TfidfVectorizer(max_df=.8)\n",
    "text_vectorizer.fit_transform(test_reviewText.values.astype('U'))\n",
    "#v.fit_transform(df['Review'].values.astype('U')) \n",
    "def rate(r):\n",
    "    ary2 = []\n",
    "    for rating in r:\n",
    "        tv = [0,0,0,0,0]\n",
    "        tv[rating-1] = 1\n",
    "        ary2.append(tv)\n",
    "    return np.array(ary2)"
   ]
  },
  {
   "cell_type": "code",
   "execution_count": 109,
   "id": "15846d83",
   "metadata": {},
   "outputs": [
    {
     "data": {
      "text/plain": [
       "0       I bought two of these 8.5 fl oz hand cream, an...\n",
       "1       Believe me, over the years I have tried many, ...\n",
       "2                                       Great hand lotion\n",
       "3       This is the best for the severely dry skin on ...\n",
       "4       The best non- oily hand cream ever. It heals o...\n",
       "                              ...                        \n",
       "1995    Great stuff! Does not smell and kept me odor f...\n",
       "1996    Excellent product, and although it might seem ...\n",
       "1997    Sad to report that this very promising product...\n",
       "1998    it didn't work as i expected it to. my underar...\n",
       "1999    I have used this product for about 1 year now ...\n",
       "Name: reviewText, Length: 2000, dtype: object"
      ]
     },
     "execution_count": 109,
     "metadata": {},
     "output_type": "execute_result"
    }
   ],
   "source": [
    "#Review text\n",
    "test_reviewText =test_reviewText[:2000]\n",
    "test_reviewText"
   ]
  },
  {
   "cell_type": "code",
   "execution_count": 110,
   "id": "72ed8743",
   "metadata": {},
   "outputs": [
    {
     "data": {
      "text/plain": [
       "0       2\n",
       "1       5\n",
       "2       5\n",
       "3       5\n",
       "4       5\n",
       "       ..\n",
       "1995    5\n",
       "1996    5\n",
       "1997    1\n",
       "1998    2\n",
       "1999    4\n",
       "Name: overall, Length: 2000, dtype: int64"
      ]
     },
     "execution_count": 110,
     "metadata": {},
     "output_type": "execute_result"
    }
   ],
   "source": [
    "#Overall ratings\n",
    "test_Ratings = test_Ratings[:2000]\n",
    "test_Ratings"
   ]
  },
  {
   "cell_type": "code",
   "execution_count": 111,
   "id": "baad8f1c",
   "metadata": {},
   "outputs": [],
   "source": [
    "X = text_vectorizer.transform(test_reviewText.values.astype('U')).toarray()\n",
    "y = rate(test_Ratings.values)"
   ]
  },
  {
   "cell_type": "markdown",
   "id": "2fe91fa1",
   "metadata": {},
   "source": [
    "## TextCNN Model"
   ]
  },
  {
   "cell_type": "code",
   "execution_count": 112,
   "id": "5d7a2fb2",
   "metadata": {},
   "outputs": [
    {
     "name": "stdout",
     "output_type": "stream",
     "text": [
      "Epoch 1/10\n",
      "57/57 [==============================] - 5s 70ms/step - loss: 1.0733 - accuracy: 0.7122 - val_loss: 0.8871 - val_accuracy: 0.7200\n",
      "Epoch 2/10\n",
      "57/57 [==============================] - 4s 63ms/step - loss: 0.8109 - accuracy: 0.7211 - val_loss: 0.8095 - val_accuracy: 0.7250\n",
      "Epoch 3/10\n",
      "57/57 [==============================] - 10s 181ms/step - loss: 0.6932 - accuracy: 0.7322 - val_loss: 0.7675 - val_accuracy: 0.7350\n",
      "Epoch 4/10\n",
      "57/57 [==============================] - 15s 243ms/step - loss: 0.6018 - accuracy: 0.7756 - val_loss: 0.7442 - val_accuracy: 0.7450\n",
      "Epoch 5/10\n",
      "57/57 [==============================] - 5s 79ms/step - loss: 0.5221 - accuracy: 0.8239 - val_loss: 0.7331 - val_accuracy: 0.7500\n",
      "Epoch 6/10\n",
      "57/57 [==============================] - 5s 84ms/step - loss: 0.4521 - accuracy: 0.8667 - val_loss: 0.7306 - val_accuracy: 0.7450\n",
      "Epoch 7/10\n",
      "57/57 [==============================] - 6s 98ms/step - loss: 0.3877 - accuracy: 0.9017 - val_loss: 0.7334 - val_accuracy: 0.7450\n",
      "Epoch 8/10\n",
      "57/57 [==============================] - 5s 83ms/step - loss: 0.3293 - accuracy: 0.9239 - val_loss: 0.7334 - val_accuracy: 0.7450\n",
      "Epoch 9/10\n",
      "57/57 [==============================] - 4s 74ms/step - loss: 0.2791 - accuracy: 0.9428 - val_loss: 0.7385 - val_accuracy: 0.7500\n",
      "Epoch 10/10\n",
      "57/57 [==============================] - 4s 77ms/step - loss: 0.2374 - accuracy: 0.9472 - val_loss: 0.7441 - val_accuracy: 0.7450\n",
      "7/7 [==============================] - 0s 13ms/step - loss: 0.7441 - accuracy: 0.7450\n"
     ]
    },
    {
     "data": {
      "text/plain": [
       "0.7450000047683716"
      ]
     },
     "execution_count": 112,
     "metadata": {},
     "output_type": "execute_result"
    }
   ],
   "source": [
    "X_train, X_test, y_train, y_test = train_test_split(X,y,test_size=.1)\n",
    "\n",
    "#After performing Oversampling (because of high amount of data in with 5 Rating)\n",
    "over = SMOTE(k_neighbors=3)\n",
    "X_train, y_train = over.fit_resample(X_train, y_train)\n",
    "\n",
    "#model implementation\n",
    "model = Sequential()\n",
    "model.add(Dense(128,input_dim=X_train.shape[1]))\n",
    "model.add(Dense(5,activation='softmax'))\n",
    "model.compile(loss='categorical_crossentropy',optimizer='rmsprop',metrics=['accuracy'])\n",
    "map=model.fit(X_train,y_train,validation_data=(X_test, y_test),epochs=10,batch_size=32,verbose=1)\n",
    "model.evaluate(X_test,y_test)[1]"
   ]
  },
  {
   "cell_type": "code",
   "execution_count": 113,
   "id": "7a8210b2",
   "metadata": {},
   "outputs": [
    {
     "data": {
      "image/png": "[encoded data removed]",
      "text/plain": [
       "<Figure size 640x480 with 1 Axes>"
      ]
     },
     "metadata": {},
     "output_type": "display_data"
    }
   ],
   "source": [
    "#TextCNN model accuracy graph\n",
    "plt.plot(map.history['accuracy'])\n",
    "plt.plot(map.history['val_accuracy'])\n",
    "plt.title('TextCNN model accuracy')\n",
    "plt.ylabel('accuracy')\n",
    "plt.xlabel('epoch')\n",
    "plt.legend(['train', 'test'], loc='upper left')\n",
    "plt.show()"
   ]
  },
  {
   "cell_type": "code",
   "execution_count": 114,
   "id": "9e38091f",
   "metadata": {},
   "outputs": [
    {
     "data": {
      "image/png": "[encoded data removed]",
      "text/plain": [
       "<Figure size 640x480 with 1 Axes>"
      ]
     },
     "metadata": {},
     "output_type": "display_data"
    }
   ],
   "source": [
    "#TextCNN model Loss graph\n",
    "plt.plot(map.history['loss'])\n",
    "plt.plot(map.history['val_loss'])\n",
    "plt.title('TextCNN model loss')\n",
    "plt.ylabel('loss')\n",
    "plt.xlabel('epoch')\n",
    "plt.legend(['train', 'test'], loc='upper left')\n",
    "plt.show()"
   ]
  }
 ],
 "metadata": {
  "kernelspec": {
   "display_name": "Python 3",
   "language": "python",
   "name": "python3"
  },
  "language_info": {
   "codemirror_mode": {
    "name": "ipython",
    "version": 3
   },
   "file_extension": ".py",
   "mimetype": "text/x-python",
   "name": "python",
   "nbconvert_exporter": "python",
   "pygments_lexer": "ipython3",
   "version": "3.9.13"
  }
 },
 "nbformat": 4,
 "nbformat_minor": 5
}
