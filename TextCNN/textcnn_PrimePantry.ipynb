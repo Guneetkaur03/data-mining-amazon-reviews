{
 "cells": [
  {
   "cell_type": "markdown",
   "id": "bcd2bad2",
   "metadata": {},
   "source": [
    "# Sentiment Analysis\n",
    "## TextCNN Model on Appliances dataset"
   ]
  },
  {
   "cell_type": "markdown",
   "id": "9abcedc6",
   "metadata": {},
   "source": [
    "## Importing Libraries"
   ]
  },
  {
   "cell_type": "code",
   "execution_count": 66,
   "id": "e18db7c6",
   "metadata": {},
   "outputs": [],
   "source": [
    "import pandas as pd\n",
    "from pathlib import Path\n",
    "import json\n",
    "import csv"
   ]
  },
  {
   "cell_type": "code",
   "execution_count": 67,
   "id": "0ad0a3a3",
   "metadata": {},
   "outputs": [],
   "source": [
    "%matplotlib inline\n",
    "import re\n",
    "import seaborn as sbn\n",
    "import nltk\n",
    "import tqdm as tqdm\n",
    "import sqlite3\n",
    "import pandas as pd\n",
    "import numpy as np\n",
    "\n",
    "import string\n",
    "from nltk.corpus import stopwords\n",
    "stop = stopwords.words(\"english\")\n",
    "import matplotlib.pyplot as plt\n",
    "\n",
    "from sklearn.metrics import accuracy_score\n",
    "from sklearn.metrics import confusion_matrix\n",
    "from math import floor,ceil\n",
    "from nltk.stem.porter import PorterStemmer\n",
    "english_stemmer=nltk.stem.SnowballStemmer('english')\n",
    "\n",
    "from sklearn.feature_extraction.text import TfidfTransformer\n",
    "from sklearn.feature_extraction.text import CountVectorizer\n",
    "from sklearn.model_selection import train_test_split\n",
    "from sklearn.metrics import confusion_matrix\n",
    "from sklearn import metrics\n",
    "from sklearn.metrics import roc_curve, auc\n",
    "\n",
    "from sklearn.svm import LinearSVC\n",
    "\n",
    "from keras.models import Sequential\n",
    "from keras.layers import LSTM, Dense, Embedding\n",
    "\n",
    "\n",
    "#from gensim import summarization\n",
    "from nltk.tokenize import word_tokenize\n",
    "from sklearn.feature_extraction.text import TfidfVectorizer\n",
    "from sklearn.model_selection import train_test_split\n",
    "\n",
    "from imblearn.over_sampling import SMOTE"
   ]
  },
  {
   "cell_type": "markdown",
   "id": "9bb2fdbb",
   "metadata": {},
   "source": [
    "## Fetching the dataset (Prime Pantry)"
   ]
  },
  {
   "cell_type": "code",
   "execution_count": 68,
   "id": "21306f6d",
   "metadata": {},
   "outputs": [],
   "source": [
    "df = pd.read_json (r'C:\\Users\\Neha Sharma\\Desktop\\Data Mining_project\\Prime_Pantry.json', lines=True)\n",
    "df.to_csv (r'C:\\Users\\Neha Sharma\\Desktop\\Data Mining_project\\Prime_Pantry.csv', index = None)"
   ]
  },
  {
   "cell_type": "code",
   "execution_count": 69,
   "id": "1f28d692",
   "metadata": {},
   "outputs": [
    {
     "name": "stderr",
     "output_type": "stream",
     "text": [
      "C:\\Users\\Neha Sharma\\AppData\\Local\\Temp\\ipykernel_7828\\167545687.py:2: DtypeWarning: Columns (9,11) have mixed types. Specify dtype option on import or set low_memory=False.\n",
      "  review_df = pd.read_csv(r'C:\\Users\\Neha Sharma\\Desktop\\Data Mining_project\\Prime_Pantry.csv')\n"
     ]
    },
    {
     "data": {
      "text/html": [
       "<div>\n",
       "<style scoped>\n",
       "    .dataframe tbody tr th:only-of-type {\n",
       "        vertical-align: middle;\n",
       "    }\n",
       "\n",
       "    .dataframe tbody tr th {\n",
       "        vertical-align: top;\n",
       "    }\n",
       "\n",
       "    .dataframe thead th {\n",
       "        text-align: right;\n",
       "    }\n",
       "</style>\n",
       "<table border=\"1\" class=\"dataframe\">\n",
       "  <thead>\n",
       "    <tr style=\"text-align: right;\">\n",
       "      <th></th>\n",
       "      <th>overall</th>\n",
       "      <th>verified</th>\n",
       "      <th>reviewTime</th>\n",
       "      <th>reviewerID</th>\n",
       "      <th>asin</th>\n",
       "      <th>reviewerName</th>\n",
       "      <th>reviewText</th>\n",
       "      <th>summary</th>\n",
       "      <th>unixReviewTime</th>\n",
       "      <th>vote</th>\n",
       "      <th>image</th>\n",
       "      <th>style</th>\n",
       "    </tr>\n",
       "  </thead>\n",
       "  <tbody>\n",
       "    <tr>\n",
       "      <th>0</th>\n",
       "      <td>5</td>\n",
       "      <td>True</td>\n",
       "      <td>12 14, 2014</td>\n",
       "      <td>A1NKJW0TNRVS7O</td>\n",
       "      <td>B0000DIWNZ</td>\n",
       "      <td>Tamara M.</td>\n",
       "      <td>Good clinging</td>\n",
       "      <td>Clings  well</td>\n",
       "      <td>1418515200</td>\n",
       "      <td>NaN</td>\n",
       "      <td>NaN</td>\n",
       "      <td>NaN</td>\n",
       "    </tr>\n",
       "    <tr>\n",
       "      <th>1</th>\n",
       "      <td>4</td>\n",
       "      <td>True</td>\n",
       "      <td>11 20, 2014</td>\n",
       "      <td>A2L6X37E8TFTCC</td>\n",
       "      <td>B0000DIWNZ</td>\n",
       "      <td>Amazon Customer</td>\n",
       "      <td>Fantastic buy and a good plastic wrap.  Even t...</td>\n",
       "      <td>Saran could use more Plus to Cling better.</td>\n",
       "      <td>1416441600</td>\n",
       "      <td>NaN</td>\n",
       "      <td>NaN</td>\n",
       "      <td>NaN</td>\n",
       "    </tr>\n",
       "    <tr>\n",
       "      <th>2</th>\n",
       "      <td>4</td>\n",
       "      <td>True</td>\n",
       "      <td>10 11, 2014</td>\n",
       "      <td>A2WPR4W6V48121</td>\n",
       "      <td>B0000DIWNZ</td>\n",
       "      <td>noname</td>\n",
       "      <td>ok</td>\n",
       "      <td>Four Stars</td>\n",
       "      <td>1412985600</td>\n",
       "      <td>NaN</td>\n",
       "      <td>NaN</td>\n",
       "      <td>NaN</td>\n",
       "    </tr>\n",
       "    <tr>\n",
       "      <th>3</th>\n",
       "      <td>3</td>\n",
       "      <td>False</td>\n",
       "      <td>09 1, 2014</td>\n",
       "      <td>A27EE7X7L29UMU</td>\n",
       "      <td>B0000DIWNZ</td>\n",
       "      <td>ZapNZs</td>\n",
       "      <td>Saran Cling Plus is kind of like most of the C...</td>\n",
       "      <td>The wrap is fantastic, but the dispensing, cut...</td>\n",
       "      <td>1409529600</td>\n",
       "      <td>4.0</td>\n",
       "      <td>NaN</td>\n",
       "      <td>NaN</td>\n",
       "    </tr>\n",
       "    <tr>\n",
       "      <th>4</th>\n",
       "      <td>4</td>\n",
       "      <td>True</td>\n",
       "      <td>08 10, 2014</td>\n",
       "      <td>A1OWT4YZGB5GV9</td>\n",
       "      <td>B0000DIWNZ</td>\n",
       "      <td>Amy Rogers</td>\n",
       "      <td>This is my go to plastic wrap so there isn't m...</td>\n",
       "      <td>has been doing it's job for years</td>\n",
       "      <td>1407628800</td>\n",
       "      <td>NaN</td>\n",
       "      <td>NaN</td>\n",
       "      <td>NaN</td>\n",
       "    </tr>\n",
       "    <tr>\n",
       "      <th>...</th>\n",
       "      <td>...</td>\n",
       "      <td>...</td>\n",
       "      <td>...</td>\n",
       "      <td>...</td>\n",
       "      <td>...</td>\n",
       "      <td>...</td>\n",
       "      <td>...</td>\n",
       "      <td>...</td>\n",
       "      <td>...</td>\n",
       "      <td>...</td>\n",
       "      <td>...</td>\n",
       "      <td>...</td>\n",
       "    </tr>\n",
       "    <tr>\n",
       "      <th>471609</th>\n",
       "      <td>5</td>\n",
       "      <td>True</td>\n",
       "      <td>05 16, 2017</td>\n",
       "      <td>A19GSVHXVT5NNF</td>\n",
       "      <td>B01HI8JVI8</td>\n",
       "      <td>Mary Bright</td>\n",
       "      <td>Easy and delicious! I am usually a make-my-own...</td>\n",
       "      <td>Easy and delicious</td>\n",
       "      <td>1494892800</td>\n",
       "      <td>NaN</td>\n",
       "      <td>NaN</td>\n",
       "      <td>NaN</td>\n",
       "    </tr>\n",
       "    <tr>\n",
       "      <th>471610</th>\n",
       "      <td>5</td>\n",
       "      <td>True</td>\n",
       "      <td>05 3, 2017</td>\n",
       "      <td>ABSCTKLX9F9IU</td>\n",
       "      <td>B01HI8JVI8</td>\n",
       "      <td>Lisa and Eric</td>\n",
       "      <td>Our elderly neighbor loves this and eats it on...</td>\n",
       "      <td>Salsa</td>\n",
       "      <td>1493769600</td>\n",
       "      <td>NaN</td>\n",
       "      <td>NaN</td>\n",
       "      <td>NaN</td>\n",
       "    </tr>\n",
       "    <tr>\n",
       "      <th>471611</th>\n",
       "      <td>5</td>\n",
       "      <td>False</td>\n",
       "      <td>04 20, 2017</td>\n",
       "      <td>A2R33RCWKDHZ3L</td>\n",
       "      <td>B01HI8JVI8</td>\n",
       "      <td>Elle S.</td>\n",
       "      <td>Great product, great price.</td>\n",
       "      <td>Five Stars</td>\n",
       "      <td>1492646400</td>\n",
       "      <td>NaN</td>\n",
       "      <td>NaN</td>\n",
       "      <td>NaN</td>\n",
       "    </tr>\n",
       "    <tr>\n",
       "      <th>471612</th>\n",
       "      <td>5</td>\n",
       "      <td>True</td>\n",
       "      <td>04 19, 2017</td>\n",
       "      <td>A2INGHYEXZDHMC</td>\n",
       "      <td>B01HI8JVI8</td>\n",
       "      <td>Shelina is Platinum!</td>\n",
       "      <td>Great size value for the price! Salsa is chunk...</td>\n",
       "      <td>Five Stars</td>\n",
       "      <td>1492560000</td>\n",
       "      <td>NaN</td>\n",
       "      <td>NaN</td>\n",
       "      <td>NaN</td>\n",
       "    </tr>\n",
       "    <tr>\n",
       "      <th>471613</th>\n",
       "      <td>5</td>\n",
       "      <td>True</td>\n",
       "      <td>02 23, 2017</td>\n",
       "      <td>AJ8M6GVFGIRLS</td>\n",
       "      <td>B01HI8JVI8</td>\n",
       "      <td>BIGGUY</td>\n",
       "      <td>I used to buy a different name brand of salsa ...</td>\n",
       "      <td>Great salsa</td>\n",
       "      <td>1487808000</td>\n",
       "      <td>NaN</td>\n",
       "      <td>NaN</td>\n",
       "      <td>NaN</td>\n",
       "    </tr>\n",
       "  </tbody>\n",
       "</table>\n",
       "<p>471614 rows × 12 columns</p>\n",
       "</div>"
      ],
      "text/plain": [
       "        overall  verified   reviewTime      reviewerID        asin  \\\n",
       "0             5      True  12 14, 2014  A1NKJW0TNRVS7O  B0000DIWNZ   \n",
       "1             4      True  11 20, 2014  A2L6X37E8TFTCC  B0000DIWNZ   \n",
       "2             4      True  10 11, 2014  A2WPR4W6V48121  B0000DIWNZ   \n",
       "3             3     False   09 1, 2014  A27EE7X7L29UMU  B0000DIWNZ   \n",
       "4             4      True  08 10, 2014  A1OWT4YZGB5GV9  B0000DIWNZ   \n",
       "...         ...       ...          ...             ...         ...   \n",
       "471609        5      True  05 16, 2017  A19GSVHXVT5NNF  B01HI8JVI8   \n",
       "471610        5      True   05 3, 2017   ABSCTKLX9F9IU  B01HI8JVI8   \n",
       "471611        5     False  04 20, 2017  A2R33RCWKDHZ3L  B01HI8JVI8   \n",
       "471612        5      True  04 19, 2017  A2INGHYEXZDHMC  B01HI8JVI8   \n",
       "471613        5      True  02 23, 2017   AJ8M6GVFGIRLS  B01HI8JVI8   \n",
       "\n",
       "                reviewerName  \\\n",
       "0                  Tamara M.   \n",
       "1            Amazon Customer   \n",
       "2                     noname   \n",
       "3                     ZapNZs   \n",
       "4                 Amy Rogers   \n",
       "...                      ...   \n",
       "471609           Mary Bright   \n",
       "471610         Lisa and Eric   \n",
       "471611               Elle S.   \n",
       "471612  Shelina is Platinum!   \n",
       "471613                BIGGUY   \n",
       "\n",
       "                                               reviewText  \\\n",
       "0                                           Good clinging   \n",
       "1       Fantastic buy and a good plastic wrap.  Even t...   \n",
       "2                                                      ok   \n",
       "3       Saran Cling Plus is kind of like most of the C...   \n",
       "4       This is my go to plastic wrap so there isn't m...   \n",
       "...                                                   ...   \n",
       "471609  Easy and delicious! I am usually a make-my-own...   \n",
       "471610  Our elderly neighbor loves this and eats it on...   \n",
       "471611                        Great product, great price.   \n",
       "471612  Great size value for the price! Salsa is chunk...   \n",
       "471613  I used to buy a different name brand of salsa ...   \n",
       "\n",
       "                                                  summary  unixReviewTime  \\\n",
       "0                                            Clings  well      1418515200   \n",
       "1              Saran could use more Plus to Cling better.      1416441600   \n",
       "2                                              Four Stars      1412985600   \n",
       "3       The wrap is fantastic, but the dispensing, cut...      1409529600   \n",
       "4                       has been doing it's job for years      1407628800   \n",
       "...                                                   ...             ...   \n",
       "471609                                 Easy and delicious      1494892800   \n",
       "471610                                              Salsa      1493769600   \n",
       "471611                                         Five Stars      1492646400   \n",
       "471612                                         Five Stars      1492560000   \n",
       "471613                                        Great salsa      1487808000   \n",
       "\n",
       "       vote image style  \n",
       "0       NaN   NaN   NaN  \n",
       "1       NaN   NaN   NaN  \n",
       "2       NaN   NaN   NaN  \n",
       "3       4.0   NaN   NaN  \n",
       "4       NaN   NaN   NaN  \n",
       "...     ...   ...   ...  \n",
       "471609  NaN   NaN   NaN  \n",
       "471610  NaN   NaN   NaN  \n",
       "471611  NaN   NaN   NaN  \n",
       "471612  NaN   NaN   NaN  \n",
       "471613  NaN   NaN   NaN  \n",
       "\n",
       "[471614 rows x 12 columns]"
      ]
     },
     "execution_count": 69,
     "metadata": {},
     "output_type": "execute_result"
    }
   ],
   "source": [
    "#Making Dataframe\n",
    "review_df = pd.read_csv(r'C:\\Users\\Neha Sharma\\Desktop\\Data Mining_project\\Prime_Pantry.csv')\n",
    "review_df"
   ]
  },
  {
   "cell_type": "code",
   "execution_count": 74,
   "id": "8a2a675d",
   "metadata": {},
   "outputs": [
    {
     "data": {
      "text/plain": [
       "Index(['overall', 'verified', 'reviewTime', 'reviewerID', 'asin',\n",
       "       'reviewerName', 'reviewText', 'summary', 'unixReviewTime', 'vote',\n",
       "       'image', 'style'],\n",
       "      dtype='object')"
      ]
     },
     "execution_count": 74,
     "metadata": {},
     "output_type": "execute_result"
    }
   ],
   "source": [
    "#Coulmns in dataset\n",
    "review_df.columns"
   ]
  },
  {
   "cell_type": "markdown",
   "id": "d972502e",
   "metadata": {},
   "source": [
    "## Data Cleaning"
   ]
  },
  {
   "cell_type": "code",
   "execution_count": 75,
   "id": "5ac9434a",
   "metadata": {},
   "outputs": [],
   "source": [
    "#Dropping the columns not required\n",
    "review_df=review_df.drop(['vote','verified','reviewTime','style','reviewerName', 'unixReviewTime', 'image'],axis=1)"
   ]
  },
  {
   "cell_type": "code",
   "execution_count": 77,
   "id": "b4537ee5",
   "metadata": {},
   "outputs": [
    {
     "data": {
      "text/plain": [
       "str"
      ]
     },
     "execution_count": 77,
     "metadata": {},
     "output_type": "execute_result"
    }
   ],
   "source": [
    "type(review_df['reviewText'][0])"
   ]
  },
  {
   "cell_type": "code",
   "execution_count": 78,
   "id": "f59e0347",
   "metadata": {},
   "outputs": [
    {
     "data": {
      "text/plain": [
       "<AxesSubplot: xlabel='overall', ylabel='count'>"
      ]
     },
     "execution_count": 78,
     "metadata": {},
     "output_type": "execute_result"
    },
    {
     "data": {
      "image/png": "[encoded data removed]",
      "text/plain": [
       "<Figure size 640x480 with 1 Axes>"
      ]
     },
     "metadata": {},
     "output_type": "display_data"
    }
   ],
   "source": [
    "#Count of overall rating\n",
    "sbn.countplot(x=review_df['overall'])"
   ]
  },
  {
   "cell_type": "code",
   "execution_count": 79,
   "id": "748749e6",
   "metadata": {},
   "outputs": [],
   "source": [
    "#Removing Stopwords\n",
    "def data_clean( rev, remove_stopwords=True): \n",
    "    \n",
    "\n",
    "    new_text = re.sub(\"[^a-zA-Z]\",\" \", rev)\n",
    "   \n",
    "    words = new_text.lower().split()\n",
    "    \n",
    "    if remove_stopwords:\n",
    "        sts = set(stopwords.words(\"english\"))\n",
    "        words = [w for w in words if not w in sts]\n",
    "    ary=[]\n",
    "    eng_stemmer = english_stemmer \n",
    "    for word in words:\n",
    "        ary.append(eng_stemmer.stem(word))\n",
    "\n",
    "    \n",
    "    return(ary)"
   ]
  },
  {
   "cell_type": "code",
   "execution_count": 80,
   "id": "4ccbdf75",
   "metadata": {},
   "outputs": [],
   "source": [
    "cleaned_reviewData = []\n",
    "for rev in review_df['reviewText']:\n",
    "    #print(rev)\n",
    "    cleaned_reviewData.append(\" \".join(data_clean(str(rev))))\n",
    "    \n",
    "clean_summaryData = []\n",
    "for rev in review_df['summary']:\n",
    "    clean_summaryData.append(\" \".join(data_clean(str(rev))))"
   ]
  },
  {
   "cell_type": "code",
   "execution_count": 81,
   "id": "ff12d1a4",
   "metadata": {},
   "outputs": [
    {
     "name": "stdout",
     "output_type": "stream",
     "text": [
      "great      23538\n",
      "good       22937\n",
      "use        21003\n",
      "love       19142\n",
      "like       18912\n",
      "product    18529\n",
      "tast       16567\n",
      "one        10910\n",
      "get         9948\n",
      "price       9926\n",
      "buy         9397\n",
      "work        9078\n",
      "flavor      8427\n",
      "time        8227\n",
      "make        8080\n",
      "teeth       7699\n",
      "tri         7648\n",
      "realli      7553\n",
      "would       6976\n",
      "well        6919\n",
      "dtype: int64\n"
     ]
    }
   ],
   "source": [
    "#Fetching most frequent words from Review Text\n",
    "Most_used_Words_Review =pd.Series(' '.join(cleaned_reviewData).lower().split()).value_counts()[:20]\n",
    "print (Most_used_Words_Review)"
   ]
  },
  {
   "cell_type": "code",
   "execution_count": 82,
   "id": "ad44675f",
   "metadata": {},
   "outputs": [
    {
     "name": "stdout",
     "output_type": "stream",
     "text": [
      "star       34293\n",
      "five       25799\n",
      "great       9950\n",
      "good        7744\n",
      "love        5205\n",
      "four        4098\n",
      "product     4040\n",
      "tast        3342\n",
      "best        3034\n",
      "like        2662\n",
      "one         2265\n",
      "work        2186\n",
      "price       2085\n",
      "three       1954\n",
      "use         1575\n",
      "delici      1570\n",
      "smell       1463\n",
      "buy         1308\n",
      "flavor      1256\n",
      "favorit     1222\n",
      "dtype: int64\n"
     ]
    }
   ],
   "source": [
    "#Fetching most frequent words from Review Summary\n",
    "Most_used_Words_Summary = pd.Series(' '.join(clean_summaryData).lower().split()).value_counts()[:20]\n",
    "print (Most_used_Words_Summary)"
   ]
  },
  {
   "cell_type": "markdown",
   "id": "0be3fa7f",
   "metadata": {},
   "source": [
    "## Data Classification and Clustering"
   ]
  },
  {
   "cell_type": "code",
   "execution_count": 83,
   "id": "6b15fba9",
   "metadata": {},
   "outputs": [],
   "source": [
    "#preparing matrix of TF-IDF features\n",
    "from sklearn.feature_extraction.text import TfidfVectorizer\n",
    "text_vectorizer = TfidfVectorizer(min_df=4, max_features = 1000)\n",
    "test_vecor = text_vectorizer.fit_transform(cleaned_reviewData)\n",
    "tfidf_vector = dict(zip(text_vectorizer.get_feature_names_out(), text_vectorizer.idf_))"
   ]
  },
  {
   "cell_type": "code",
   "execution_count": 84,
   "id": "a14a03d7",
   "metadata": {},
   "outputs": [
    {
     "name": "stderr",
     "output_type": "stream",
     "text": [
      "[nltk_data] Downloading package vader_lexicon to C:\\Users\\Neha\n",
      "[nltk_data]     Sharma\\AppData\\Roaming\\nltk_data...\n",
      "[nltk_data]   Package vader_lexicon is already up-to-date!\n"
     ]
    },
    {
     "data": {
      "text/plain": [
       "True"
      ]
     },
     "execution_count": 84,
     "metadata": {},
     "output_type": "execute_result"
    }
   ],
   "source": [
    "import nltk\n",
    "nltk.downloader.download('vader_lexicon')"
   ]
  },
  {
   "cell_type": "code",
   "execution_count": 85,
   "id": "24372280",
   "metadata": {},
   "outputs": [
    {
     "name": "stdout",
     "output_type": "stream",
     "text": [
      "compound: 0.4404, \n",
      "neg: 0.0, \n",
      "neu: 0.256, \n",
      "pos: 0.744, \n",
      "Good clinging\n",
      "compound: 0.802, \n",
      "neg: 0.0, \n",
      "neu: 0.823, \n",
      "pos: 0.177, \n",
      "Fantastic buy and a good plastic wrap.  Even though labeled \"Cling Plus,\" I feel that another plastic wrap holds and clings tighter for me.\n",
      "Still, for the price and roll size, I'll order this product as needed with my Amazon Prime food orders.\n",
      "compound: 0.296, \n",
      "neg: 0.0, \n",
      "neu: 0.0, \n",
      "pos: 1.0, \n",
      "ok\n",
      "compound: 0.2743, \n",
      "neg: 0.133, \n",
      "neu: 0.734, \n",
      "pos: 0.133, \n",
      "Saran Cling Plus is kind of like most of the Cling Wrap from Glad. It is a very good quality plastic wrap, but the delivery system is poorly executed, and this makes usage more frustrating and less time-efficient. As convenience is one of the core selling points of this sort of product, how easy it is to use is just as important as how good the wrap itself is.\n",
      "\n",
      "As another user here noted, getting this stuff out of the box and tearing off the portion you need to use is very difficult. Substantial force is required to do this due to a cutting system that is lacking, and this can result in the box being damaged as it is not a very robust box. It can also cause the piece you are attempting to tear off fold up from the pressure upon being torn, leaving you with a tangled mess to untangle. As the blade itself does not do a great job cutting, sometimes the wrap will tear, leaving you with a piece that is a different size than you wanted. The physical location of where the wrap comes out relative to where it is cut at also results in one having to hold at an awkward angle to see what they are doing, making all of this more difficult.\n",
      "\n",
      "I use clear wrap multiple times a day...the difference between a delivery system that is easy versus difficult means a lot of time savings, and a lot of frustration that does not have to occur. This is a good quality wrap, but like Glad's wrap, it's delivery system is lacking compared to other products (such as the Kirkland clear wraps) and so the convenience factor is reduced. So I think that you will find that an alternative clear wrap product with a better system for dispensing & cutting is more enjoyable to use, and much more convenient.\n",
      "compound: 0.5657, \n",
      "neg: 0.051, \n",
      "neu: 0.852, \n",
      "pos: 0.097, \n",
      "This is my go to plastic wrap so there isn't much bad I can say. Plastic wrap is kind of a pain when you are trying to get it off the roll and it sticks to itself. I don't seem to have that problem with cling plus. It comes out nice and rips off well. It usually sticks well to what i need it to. I will say i use it more to wrap things, then to go over containers. I just don't feel any plastic wrap sticks really well to plastic and glass bowls. So i use it sparingly for these purposes. If i need to wrap up something for my children's lunch this is the plastic wrap i would choose.\n",
      "compound: 0.584, \n",
      "neg: 0.0, \n",
      "neu: 0.653, \n",
      "pos: 0.347, \n",
      "Works very well. Clings to my glass baking dish very well\n",
      "compound: 0.9007, \n",
      "neg: 0.031, \n",
      "neu: 0.865, \n",
      "pos: 0.103, \n",
      "I find the 200 foot roll of Saran Cling Plus nearly impossible to extract from the box.  Pulling on the roll requires a force that breaks the box.  If you tape the box (with scotch packing tape), it just tears somewhere else.  Since the wrap clings well, fiddling with the box means that the wrap can fold over on itself, making it nearly impossible to untangle.  Since I buy this stuff to save time, this poor packaging erases most of the advantage.  Wax paper with a rubber band (my mom's solution) would be as fast and a lot cheaper.\n",
      "\n",
      "Glad doesn't stick as well as this wrap, but it is much easier to manipulate in larger pieces, allowing you to cover food  fast.\n",
      "\n",
      "One reviewer notes that Saran wrap sticks well in the microwave.  I'd be nervous about soft plastic adhering to my food in a microwave. There's a lot of buzz about chemicals in plastic leaching into food. To be safe, glass/china/paper are the containers of choice in the microwave. to prevent spattering, just put an upside down plate (china or paper) over the food being heated.\n",
      "compound: 0.9217, \n",
      "neg: 0.0, \n",
      "neu: 0.723, \n",
      "pos: 0.277, \n",
      "I like Saran wrap better than Glad, for some reason my husband and I believe it works better, it clings better and it doesn't melt as fast in the microwave as the others do. The price was right and it was delivered very quick.\n",
      "compound: 0.9074, \n",
      "neg: 0.054, \n",
      "neu: 0.679, \n",
      "pos: 0.267, \n",
      "An excellent product with great \"sticking power\"!  Other more expensive product that claim \"easy handling\" are simply LESS STICKY and that's not what you want in cling-film! The price here buying in bulk + Amazon prime is hard to beat.\n",
      "compound: -0.7422, \n",
      "neg: 0.131, \n",
      "neu: 0.803, \n",
      "pos: 0.066, \n",
      "The product description impled a pack of 12. That would have been a terrific value so I didn't mnd paying a $5 shipping charge. It is not. At least not from the seller I purchased it from (Soap). It's one pack of 200 sq ft. size. Not a good value at all. Plus it came in a gigantic boz that could indeed contain 12 individual products. But the box only contained one. Shame on you Soap. Not a good Amazon seller.\n"
     ]
    }
   ],
   "source": [
    "# Sentiment Analyzer\n",
    "from nltk.sentiment.vader import SentimentIntensityAnalyzer\n",
    "analyser = SentimentIntensityAnalyzer()\n",
    "sample_review = review_df.reviewText[:10]\n",
    "for test in sample_review:\n",
    "    test\n",
    "    ss = analyser.polarity_scores(test)\n",
    "    for k in sorted(ss):\n",
    "        print('{0}: {1}, '.format(k, ss[k]))\n",
    "    print(test)"
   ]
  },
  {
   "cell_type": "code",
   "execution_count": 86,
   "id": "42cbdb2a",
   "metadata": {},
   "outputs": [
    {
     "name": "stdout",
     "output_type": "stream",
     "text": [
      "Cluster 0:\n",
      " love\n",
      " smell\n",
      " kid\n",
      " great\n",
      " stuff\n",
      "\n",
      "Cluster 1:\n",
      " nice\n",
      " smell\n",
      " clean\n",
      " product\n",
      " good\n",
      "\n",
      "Cluster 2:\n",
      " tea\n",
      " green\n",
      " unsweeten\n",
      " tast\n",
      " best\n",
      "\n",
      "Cluster 3:\n",
      " rice\n",
      " brown\n",
      " cook\n",
      " love\n",
      " good\n",
      "\n",
      "Cluster 4:\n",
      " thank\n",
      " great\n",
      " good\n",
      " much\n",
      " product\n",
      "\n",
      "Cluster 5:\n",
      " good\n",
      " great\n",
      " tast\n",
      " fresh\n",
      " product\n",
      "\n",
      "Cluster 6:\n",
      " best\n",
      " favorit\n",
      " nut\n",
      " order\n",
      " box\n",
      "\n",
      "Cluster 7:\n",
      " product\n",
      " great\n",
      " price\n",
      " love\n",
      " like\n",
      "\n",
      "Cluster 8:\n",
      " good\n",
      " product\n",
      " price\n",
      " tast\n",
      " stuff\n",
      "\n",
      "Cluster 9:\n",
      " great\n",
      " water\n",
      " flavor\n",
      " size\n",
      " work\n",
      "\n",
      "Cluster 10:\n",
      " love\n",
      " product\n",
      " great\n",
      " tast\n",
      " good\n",
      "\n",
      "Cluster 11:\n",
      " love\n",
      " zevia\n",
      " fit\n",
      " formula\n",
      " form\n",
      "\n",
      "Cluster 12:\n",
      " smell\n",
      " wonder\n",
      " clean\n",
      " great\n",
      " product\n",
      "\n",
      "Cluster 13:\n",
      " great\n",
      " price\n",
      " product\n",
      " tast\n",
      " work\n",
      "\n",
      "Cluster 14:\n",
      " okay\n",
      " salti\n",
      " littl\n",
      " tast\n",
      " order\n",
      "\n",
      "Cluster 15:\n",
      " excel\n",
      " product\n",
      " price\n",
      " great\n",
      " tast\n",
      "\n",
      "Cluster 16:\n",
      " delici\n",
      " alway\n",
      " fresh\n",
      " healthi\n",
      " love\n",
      "\n",
      "Cluster 17:\n",
      " like\n",
      " use\n",
      " tast\n",
      " work\n",
      " product\n",
      "\n",
      "Cluster 18:\n",
      " tasti\n",
      " expect\n",
      " ok\n",
      " perfect\n",
      " yum\n",
      "\n",
      "Cluster 19:\n",
      " yummi\n",
      " good\n",
      " great\n",
      " fresh\n",
      " fast\n",
      "\n"
     ]
    }
   ],
   "source": [
    "#Kmeans clusters\n",
    "from sklearn.cluster import MiniBatchKMeans\n",
    "\n",
    "clusters = 20\n",
    "kmeans_model = MiniBatchKMeans(n_clusters=clusters, init='k-means++', n_init=1, \n",
    "                         init_size=1000, batch_size=1000, verbose=False, max_iter=1000)\n",
    "kmodel = kmeans_model.fit(test_vecor)\n",
    "kmodel_clusters = kmodel.predict(test_vecor)\n",
    "kmodel_distances = kmodel.transform(test_vecor)\n",
    "centroids = kmodel.cluster_centers_.argsort()[:, ::-1]\n",
    "values = text_vectorizer.get_feature_names_out()\n",
    "for i in range(clusters):\n",
    "    print(\"Cluster %d:\" % i)\n",
    "    for j in centroids[i, :5]:\n",
    "        print(' %s' % values[j])\n",
    "    print()"
   ]
  },
  {
   "cell_type": "code",
   "execution_count": 87,
   "id": "18ca9766",
   "metadata": {},
   "outputs": [],
   "source": [
    "test_reviewText = review_df.reviewText\n",
    "test_Ratings = review_df.overall\n",
    "text_vectorizer = TfidfVectorizer(max_df=.8)\n",
    "text_vectorizer.fit_transform(test_reviewText.values.astype('U'))\n",
    "#v.fit_transform(df['Review'].values.astype('U')) \n",
    "def rate(r):\n",
    "    ary2 = []\n",
    "    for rating in r:\n",
    "        tv = [0,0,0,0,0]\n",
    "        tv[rating-1] = 1\n",
    "        ary2.append(tv)\n",
    "    return np.array(ary2)"
   ]
  },
  {
   "cell_type": "code",
   "execution_count": 88,
   "id": "15846d83",
   "metadata": {},
   "outputs": [
    {
     "data": {
      "text/plain": [
       "0                                           Good clinging\n",
       "1       Fantastic buy and a good plastic wrap.  Even t...\n",
       "2                                                      ok\n",
       "3       Saran Cling Plus is kind of like most of the C...\n",
       "4       This is my go to plastic wrap so there isn't m...\n",
       "                              ...                        \n",
       "1995    For my wife and I this milk is nearly indispen...\n",
       "1996                                  Not what I expected\n",
       "1997    I've tried many of the Jalepeno chips, these g...\n",
       "1998    These are my favorite potato chips. Nice and c...\n",
       "1999    All the bags had stale chips. Our money was re...\n",
       "Name: reviewText, Length: 2000, dtype: object"
      ]
     },
     "execution_count": 88,
     "metadata": {},
     "output_type": "execute_result"
    }
   ],
   "source": [
    "#Review text\n",
    "test_reviewText =test_reviewText[:2000]\n",
    "test_reviewText"
   ]
  },
  {
   "cell_type": "code",
   "execution_count": 89,
   "id": "72ed8743",
   "metadata": {},
   "outputs": [
    {
     "data": {
      "text/plain": [
       "0       5\n",
       "1       4\n",
       "2       4\n",
       "3       3\n",
       "4       4\n",
       "       ..\n",
       "1995    3\n",
       "1996    3\n",
       "1997    5\n",
       "1998    5\n",
       "1999    3\n",
       "Name: overall, Length: 2000, dtype: int64"
      ]
     },
     "execution_count": 89,
     "metadata": {},
     "output_type": "execute_result"
    }
   ],
   "source": [
    "#Overall ratings\n",
    "test_Ratings = test_Ratings[:2000]\n",
    "test_Ratings"
   ]
  },
  {
   "cell_type": "code",
   "execution_count": 90,
   "id": "baad8f1c",
   "metadata": {},
   "outputs": [],
   "source": [
    "X = text_vectorizer.transform(test_reviewText.values.astype('U')).toarray()\n",
    "y = rate(test_Ratings.values)"
   ]
  },
  {
   "cell_type": "markdown",
   "id": "a8bfd1f3",
   "metadata": {},
   "source": [
    "## TextCNN Model"
   ]
  },
  {
   "cell_type": "code",
   "execution_count": 91,
   "id": "5d7a2fb2",
   "metadata": {},
   "outputs": [
    {
     "name": "stdout",
     "output_type": "stream",
     "text": [
      "Epoch 1/10\n",
      "57/57 [==============================] - 7s 92ms/step - loss: 1.1857 - accuracy: 0.6556 - val_loss: 1.0431 - val_accuracy: 0.6550\n",
      "Epoch 2/10\n",
      "57/57 [==============================] - 4s 77ms/step - loss: 0.9243 - accuracy: 0.6639 - val_loss: 0.9320 - val_accuracy: 0.6750\n",
      "Epoch 3/10\n",
      "57/57 [==============================] - 5s 83ms/step - loss: 0.7998 - accuracy: 0.6933 - val_loss: 0.8664 - val_accuracy: 0.7000\n",
      "Epoch 4/10\n",
      "57/57 [==============================] - 4s 78ms/step - loss: 0.7034 - accuracy: 0.7306 - val_loss: 0.8236 - val_accuracy: 0.7300\n",
      "Epoch 5/10\n",
      "57/57 [==============================] - 4s 79ms/step - loss: 0.6253 - accuracy: 0.7622 - val_loss: 0.8036 - val_accuracy: 0.7300\n",
      "Epoch 6/10\n",
      "57/57 [==============================] - 5s 79ms/step - loss: 0.5564 - accuracy: 0.7972 - val_loss: 0.7932 - val_accuracy: 0.7450\n",
      "Epoch 7/10\n",
      "57/57 [==============================] - 4s 79ms/step - loss: 0.4933 - accuracy: 0.8378 - val_loss: 0.7996 - val_accuracy: 0.7400\n",
      "Epoch 8/10\n",
      "57/57 [==============================] - 4s 78ms/step - loss: 0.4372 - accuracy: 0.8689 - val_loss: 0.8017 - val_accuracy: 0.7400\n",
      "Epoch 9/10\n",
      "57/57 [==============================] - 4s 78ms/step - loss: 0.3854 - accuracy: 0.8872 - val_loss: 0.8285 - val_accuracy: 0.7250\n",
      "Epoch 10/10\n",
      "57/57 [==============================] - 4s 76ms/step - loss: 0.3466 - accuracy: 0.8983 - val_loss: 0.8317 - val_accuracy: 0.7150\n",
      "7/7 [==============================] - 0s 13ms/step - loss: 0.8317 - accuracy: 0.7150\n"
     ]
    },
    {
     "data": {
      "text/plain": [
       "0.7149999737739563"
      ]
     },
     "execution_count": 91,
     "metadata": {},
     "output_type": "execute_result"
    }
   ],
   "source": [
    "#TextCNN Model\n",
    "X_train, X_test, y_train, y_test = train_test_split(X,y,test_size=.1)\n",
    "\n",
    "#After performing Oversampling (because of high amount of data in with 5 Rating)\n",
    "over = SMOTE(k_neighbors=3)\n",
    "X_train, y_train = over.fit_resample(X_train, y_train)\n",
    "\n",
    "#model implementation\n",
    "model = Sequential()\n",
    "model.add(Dense(128,input_dim=X_train.shape[1]))\n",
    "model.add(Dense(5,activation='softmax'))\n",
    "model.compile(loss='categorical_crossentropy',optimizer='rmsprop',metrics=['accuracy'])\n",
    "map=model.fit(X_train,y_train,validation_data=(X_test, y_test),epochs=10,batch_size=32,verbose=1)\n",
    "model.evaluate(X_test,y_test)[1]"
   ]
  },
  {
   "cell_type": "code",
   "execution_count": 92,
   "id": "7a8210b2",
   "metadata": {},
   "outputs": [
    {
     "data": {
      "image/png": "[encoded data removed]",
      "text/plain": [
       "<Figure size 640x480 with 1 Axes>"
      ]
     },
     "metadata": {},
     "output_type": "display_data"
    }
   ],
   "source": [
    "#TextCNN model accuracy graph\n",
    "plt.plot(map.history['accuracy'])\n",
    "plt.plot(map.history['val_accuracy'])\n",
    "plt.title('TextCNN model accuracy')\n",
    "plt.ylabel('accuracy')\n",
    "plt.xlabel('epoch')\n",
    "plt.legend(['train', 'test'], loc='upper left')\n",
    "plt.show()"
   ]
  },
  {
   "cell_type": "code",
   "execution_count": 93,
   "id": "c1b09012",
   "metadata": {},
   "outputs": [
    {
     "data": {
      "image/png": "[encoded data removed]",
      "text/plain": [
       "<Figure size 640x480 with 1 Axes>"
      ]
     },
     "metadata": {},
     "output_type": "display_data"
    }
   ],
   "source": [
    "#TextCNN model Loss graph\n",
    "plt.plot(map.history['loss'])\n",
    "plt.plot(map.history['val_loss'])\n",
    "plt.title('TextCNN model loss')\n",
    "plt.ylabel('loss')\n",
    "plt.xlabel('epoch')\n",
    "plt.legend(['train', 'test'], loc='upper left')\n",
    "plt.show()"
   ]
  }
 ],
 "metadata": {
  "kernelspec": {
   "display_name": "Python 3",
   "language": "python",
   "name": "python3"
  },
  "language_info": {
   "codemirror_mode": {
    "name": "ipython",
    "version": 3
   },
   "file_extension": ".py",
   "mimetype": "text/x-python",
   "name": "python",
   "nbconvert_exporter": "python",
   "pygments_lexer": "ipython3",
   "version": "3.9.13"
  }
 },
 "nbformat": 4,
 "nbformat_minor": 5
}
